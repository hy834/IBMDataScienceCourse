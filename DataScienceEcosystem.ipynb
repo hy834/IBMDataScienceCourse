{
 "cells": [
  {
   "cell_type": "markdown",
   "id": "f9a7e342-433f-46ab-85de-7c21f19875c9",
   "metadata": {},
   "source": [
    "# Data Science Tools and Ecosystem"
   ]
  },
  {
   "cell_type": "markdown",
   "id": "237bc9bc-82f3-4f20-a5de-758fa3ef2e2a",
   "metadata": {},
   "source": [
    "## In this notebook, Data Science tools and Ecosystem are summarized."
   ]
  },
  {
   "cell_type": "markdown",
   "id": "6b148775-5e3f-48db-b889-3da311f36044",
   "metadata": {},
   "source": [
    "### Some of the popular languages that Data Scientists use are : \n",
    "1. Python\n",
    "2. R\n",
    "3. Scala"
   ]
  },
  {
   "cell_type": "markdown",
   "id": "cdb462d0-aa28-4af7-9dcc-91388d6a213c",
   "metadata": {},
   "source": [
    "### Some of the commonly used libraries used by Data Scientists include:\n",
    "1. Pandas\n",
    "2. Numpy\n",
    "3. Matplotlib\n",
    "\n",
    "\n"
   ]
  },
  {
   "cell_type": "markdown",
   "id": "67d10cfd-9ad0-4163-a75d-9287999168a6",
   "metadata": {},
   "source": [
    "|Data Science Tools|\n",
    "|------------------|\n",
    "|Rstudio           |\n",
    "|ApacheSpark       |\n",
    "|TensorFlow        |"
   ]
  },
  {
   "cell_type": "markdown",
   "id": "e46721c9-5c58-4235-b365-19fed295b820",
   "metadata": {},
   "source": [
    "### Below are a few examples of evaluating arithmetic expressions in Python"
   ]
  },
  {
   "cell_type": "code",
   "execution_count": 1,
   "id": "3a135655-3025-49cc-b631-e9fc925c7efb",
   "metadata": {
    "tags": []
   },
   "outputs": [
    {
     "data": {
      "text/plain": [
       "17"
      ]
     },
     "execution_count": 1,
     "metadata": {},
     "output_type": "execute_result"
    }
   ],
   "source": [
    "# This a simple arithmetic expression to mutiply then add integers.\n",
    "(3*4)+5"
   ]
  },
  {
   "cell_type": "code",
   "execution_count": 2,
   "id": "bdc587c0-0e5d-4b88-97a8-62bfadd1d9e9",
   "metadata": {
    "tags": []
   },
   "outputs": [
    {
     "data": {
      "text/plain": [
       "3.3333333333333335"
      ]
     },
     "execution_count": 2,
     "metadata": {},
     "output_type": "execute_result"
    }
   ],
   "source": [
    "# This will convert 200 minutes to hours by diving by 60.\n",
    "200/60"
   ]
  },
  {
   "cell_type": "markdown",
   "id": "9a43a881-6479-46f2-8da7-24372d0732f3",
   "metadata": {},
   "source": [
    "### **Objectives**\n",
    "- Tools for Data Science\n",
    "- Languages used in Data Science\n",
    "- Learning how to use Markdown cells\n",
    "- Features of Jupyter Notebooks"
   ]
  },
  {
   "cell_type": "markdown",
   "id": "08b68c15-92a8-4d27-b11d-64c78041d999",
   "metadata": {},
   "source": [
    "## Author\n",
    "Y.Haritha"
   ]
  },
  {
   "cell_type": "code",
   "execution_count": null,
   "id": "ea3a04a6-dc49-4b5c-a7f5-cc6399b52422",
   "metadata": {},
   "outputs": [],
   "source": []
  }
 ],
 "metadata": {
  "kernelspec": {
   "display_name": "Python",
   "language": "python",
   "name": "conda-env-python-py"
  },
  "language_info": {
   "codemirror_mode": {
    "name": "ipython",
    "version": 3
   },
   "file_extension": ".py",
   "mimetype": "text/x-python",
   "name": "python",
   "nbconvert_exporter": "python",
   "pygments_lexer": "ipython3",
   "version": "3.7.12"
  }
 },
 "nbformat": 4,
 "nbformat_minor": 5
}
